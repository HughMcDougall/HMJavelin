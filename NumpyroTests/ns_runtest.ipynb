{
 "cells": [
  {
   "cell_type": "code",
   "execution_count": 1,
   "id": "826c5305",
   "metadata": {
    "pycharm": {
     "is_executing": true,
     "name": "#%%\n"
    }
   },
   "outputs": [
    {
     "name": "stderr",
     "output_type": "stream",
     "text": [
      "/home/hughmc/anaconda3/envs/nestconda/lib/python3.10/site-packages/tqdm/auto.py:21: TqdmWarning: IProgress not found. Please update jupyter and ipywidgets. See https://ipywidgets.readthedocs.io/en/stable/user_install.html\n",
      "  from .autonotebook import tqdm as notebook_tqdm\n"
     ]
    }
   ],
   "source": [
    "from Nested_sampler_fixed import NewNestedSampler\n",
    "from numpyro.contrib.nested_sampling import NestedSampler\n",
    "import jax\n",
    "from chainconsumer import ChainConsumer\n",
    "import numpyro\n",
    "import matplotlib.pyplot as plt\n",
    "import warnings\n",
    "\n",
    "warnings.filterwarnings(\"ignore\", category=FutureWarning)\n",
    "numpyro.set_host_device_count(1)\n",
    "jax.config.update('jax_platform_name', 'cpu')\n",
    "\n"
   ]
  },
  {
   "cell_type": "code",
   "execution_count": 2,
   "id": "92843c84",
   "metadata": {
    "pycharm": {
     "name": "#%%\n"
    }
   },
   "outputs": [],
   "source": [
    "def model():\n",
    "    x = numpyro.sample('x', numpyro.distributions.Normal(0,1))\n",
    "    y = numpyro.sample('y', numpyro.distributions.Normal(0,1))\n",
    "    \n",
    "ns = NewNestedSampler(model)"
   ]
  },
  {
   "cell_type": "code",
   "execution_count": null,
   "id": "8bf571f1",
   "metadata": {
    "jupyter": {
     "outputs_hidden": false
    },
    "pycharm": {
     "name": "#%%\n"
    }
   },
   "outputs": [
    {
     "name": "stderr",
     "output_type": "stream",
     "text": [
      "INFO[2023-03-09 12:38:19,840]: Unable to initialize backend 'tpu_driver': NOT_FOUND: Unable to find driver in registry given worker: \n",
      "INFO[2023-03-09 12:38:19,841]: Unable to initialize backend 'cuda': module 'jaxlib.xla_extension' has no attribute 'GpuAllocatorConfig'\n",
      "INFO[2023-03-09 12:38:19,842]: Unable to initialize backend 'rocm': module 'jaxlib.xla_extension' has no attribute 'GpuAllocatorConfig'\n",
      "INFO[2023-03-09 12:38:19,845]: Unable to initialize backend 'tpu': INVALID_ARGUMENT: TpuPlatform is not available.\n",
      "INFO[2023-03-09 12:38:19,846]: Unable to initialize backend 'plugin': xla_extension has no attributes named get_plugin_device_client. Compile TensorFlow with //tensorflow/compiler/xla/python:enable_plugin_device set to true (defaults to false) to enable this.\n"
     ]
    },
    {
     "name": "stdout",
     "output_type": "stream",
     "text": [
      "Starting\n"
     ]
    }
   ],
   "source": [
    "print(\"Starting\")\n",
    "ns.run(jax.random.PRNGKey(1), max_samples=1e7)\n",
    "print(\"Done baybee\")"
   ]
  },
  {
   "cell_type": "code",
   "execution_count": null,
   "id": "ebdda2e3",
   "metadata": {},
   "outputs": [],
   "source": [
    "results = ns.get_samples(jax.random.PRNGKey(1),1000)\n",
    "c = ChainConsumer()\n",
    "c.add_chain([results ['x'], results ['y']], parameters=['x','y'])\n",
    "c.plotter.plot()\n",
    "plt.show()"
   ]
  }
 ],
 "metadata": {
  "kernelspec": {
   "display_name": "Python 3 (ipykernel)",
   "language": "python",
   "name": "python3"
  },
  "language_info": {
   "codemirror_mode": {
    "name": "ipython",
    "version": 3
   },
   "file_extension": ".py",
   "mimetype": "text/x-python",
   "name": "python",
   "nbconvert_exporter": "python",
   "pygments_lexer": "ipython3",
   "version": "3.10.9"
  }
 },
 "nbformat": 4,
 "nbformat_minor": 5
}
