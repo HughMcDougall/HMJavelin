{
 "cells": [
  {
   "cell_type": "markdown",
   "id": "3f37a5a5",
   "metadata": {},
   "source": [
    "# Nested_Model_test\n",
    "A test to see if numpyro can nest models inside one another.  \n",
    "Conclusion: yes"
   ]
  },
  {
   "cell_type": "code",
   "execution_count": 1,
   "id": "a565bfce",
   "metadata": {},
   "outputs": [],
   "source": [
    "import jax\n",
    "import jax.numpy as jnp\n",
    "import numpyro\n",
    "import numpy as np\n",
    "from chainconsumer import ChainConsumer\n",
    "import matplotlib.pylab as plt\n",
    "import warnings\n",
    "warnings.filterwarnings(\"ignore\", category=FutureWarning)\n",
    "numpyro.set_host_device_count(1)\n",
    "jax.config.update('jax_platform_name', 'cpu')"
   ]
  },
  {
   "cell_type": "markdown",
   "id": "13b829d9",
   "metadata": {},
   "source": [
    "Create an outer model and an inner model:"
   ]
  },
  {
   "cell_type": "code",
   "execution_count": 2,
   "id": "285ee019",
   "metadata": {},
   "outputs": [],
   "source": [
    "def outer_model():\n",
    "    x = numpyro.sample('x', numpyro.distributions.Normal(0,1))\n",
    "    inner_model()\n",
    "    \n",
    "def inner_model():\n",
    "    y = numpyro.sample('y', numpyro.distributions.Normal(1,2))"
   ]
  },
  {
   "cell_type": "markdown",
   "id": "828fbded",
   "metadata": {},
   "source": [
    "Make a simple sampler and fire it off in the normal way:"
   ]
  },
  {
   "cell_type": "code",
   "execution_count": 3,
   "id": "b1d3c41d",
   "metadata": {},
   "outputs": [
    {
     "name": "stdout",
     "output_type": "stream",
     "text": [
      "Beginning sampling...\n"
     ]
    },
    {
     "ename": "NameError",
     "evalue": "name 'infer' is not defined",
     "output_type": "error",
     "traceback": [
      "\u001b[1;31m---------------------------------------------------------------------------\u001b[0m",
      "\u001b[1;31mNameError\u001b[0m                                 Traceback (most recent call last)",
      "Cell \u001b[1;32mIn[3], line 3\u001b[0m\n\u001b[0;32m      1\u001b[0m \u001b[38;5;28mprint\u001b[39m(\u001b[38;5;124m\"\u001b[39m\u001b[38;5;124mBeginning sampling...\u001b[39m\u001b[38;5;124m\"\u001b[39m)\n\u001b[0;32m      2\u001b[0m sampler \u001b[38;5;241m=\u001b[39m numpyro\u001b[38;5;241m.\u001b[39minfer\u001b[38;5;241m.\u001b[39mMCMC(\n\u001b[1;32m----> 3\u001b[0m     \u001b[43minfer\u001b[49m\u001b[38;5;241m.\u001b[39mNUTS(model \u001b[38;5;241m=\u001b[39m outer_model, init_strategy\u001b[38;5;241m=\u001b[39minfer\u001b[38;5;241m.\u001b[39minit_to_uniform()),\n\u001b[0;32m      4\u001b[0m     num_warmup\u001b[38;5;241m=\u001b[39m\u001b[38;5;241m100\u001b[39m,\n\u001b[0;32m      5\u001b[0m     num_samples\u001b[38;5;241m=\u001b[39m\u001b[38;5;241m20000\u001b[39m,\n\u001b[0;32m      6\u001b[0m     num_chains\u001b[38;5;241m=\u001b[39m\u001b[38;5;241m1\u001b[39m,\n\u001b[0;32m      7\u001b[0m     progress_bar\u001b[38;5;241m=\u001b[39m\u001b[38;5;28;01mFalse\u001b[39;00m,\n\u001b[0;32m      8\u001b[0m     chain_method \u001b[38;5;241m=\u001b[39m \u001b[38;5;124m'\u001b[39m\u001b[38;5;124msequential\u001b[39m\u001b[38;5;124m'\u001b[39m,\n\u001b[0;32m      9\u001b[0m )\n\u001b[0;32m     10\u001b[0m sampler\u001b[38;5;241m.\u001b[39mrun(jax\u001b[38;5;241m.\u001b[39mrandom\u001b[38;5;241m.\u001b[39mPRNGKey(\u001b[38;5;241m10\u001b[39m))\n\u001b[0;32m     11\u001b[0m \u001b[38;5;28mprint\u001b[39m(\u001b[38;5;124m\"\u001b[39m\u001b[38;5;124mDone\u001b[39m\u001b[38;5;124m\"\u001b[39m)\n",
      "\u001b[1;31mNameError\u001b[0m: name 'infer' is not defined"
     ]
    }
   ],
   "source": [
    "print(\"Beginning sampling...\")\n",
    "sampler = numpyro.infer.MCMC(\n",
    "    infer.NUTS(model = outer_model, init_strategy=infer.init_to_uniform()),\n",
    "    num_warmup=100,\n",
    "    num_samples=20000,\n",
    "    num_chains=1,\n",
    "    progress_bar=False,\n",
    "    chain_method = 'sequential',\n",
    ")\n",
    "sampler.run(jax.random.PRNGKey(10))\n",
    "print(\"Done\")\n"
   ]
  },
  {
   "cell_type": "markdown",
   "id": "1f551852",
   "metadata": {},
   "source": [
    "Retrieve in chainconsumer and plot as per normal:"
   ]
  },
  {
   "cell_type": "code",
   "execution_count": null,
   "id": "4d2c73cd",
   "metadata": {},
   "outputs": [],
   "source": [
    "output = sampler.get_samples()\n",
    "c = ChainConsumer()\n",
    "c.add_chain([output['x'],output['y']], parameters=['x','y'])\n",
    "c.plotter.plot()\n",
    "plt.show()"
   ]
  }
 ],
 "metadata": {
  "kernelspec": {
   "display_name": "Python 3 (ipykernel)",
   "language": "python",
   "name": "python3"
  },
  "language_info": {
   "codemirror_mode": {
    "name": "ipython",
    "version": 3
   },
   "file_extension": ".py",
   "mimetype": "text/x-python",
   "name": "python",
   "nbconvert_exporter": "python",
   "pygments_lexer": "ipython3",
   "version": "3.10.3"
  }
 },
 "nbformat": 4,
 "nbformat_minor": 5
}
