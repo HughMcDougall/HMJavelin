{
 "cells": [
  {
   "cell_type": "code",
   "execution_count": 98,
   "id": "b9e9b017",
   "metadata": {},
   "outputs": [],
   "source": [
    "import jax\n",
    "import jax.numpy as jnp\n",
    "import numpyro\n",
    "from numpyro import infer\n",
    "import numpy as np\n",
    "from chainconsumer import ChainConsumer\n",
    "import matplotlib.pylab as plt\n",
    "import warnings\n",
    "from numpyro.contrib.nested_sampling import NestedSampler #Need to have jaxns v 1.1.2 or earlier for this to work\n",
    "from numpyro.infer.util import transform_fn\n",
    "\n",
    "warnings.filterwarnings(\"ignore\", category=FutureWarning)\n",
    "numpyro.set_host_device_count(1)\n",
    "jax.config.update('jax_platform_name', 'cpu')"
   ]
  },
  {
   "cell_type": "code",
   "execution_count": 118,
   "id": "b4c42872",
   "metadata": {},
   "outputs": [],
   "source": [
    "nchains  = 20\n",
    "nburn    = 0\n",
    "nsamples = 20\n",
    "\n",
    "xmin, xmax = 0, 0.0001\n",
    "vmin, vmax = -20,20"
   ]
  },
  {
   "cell_type": "code",
   "execution_count": 119,
   "id": "73671e93",
   "metadata": {
    "scrolled": false
   },
   "outputs": [],
   "source": [
    "def model_single():\n",
    "    x  = numpyro.sample('x', numpyro.distributions.Uniform(xmin,xmax))\n",
    "    v_0= numpyro.sample('v_0', numpyro.distributions.Uniform(vmin,vmax))\n",
    "    v_1= numpyro.sample('v_1', numpyro.distributions.Uniform(vmin,vmax))\n",
    "    v_2= numpyro.sample('v_2', numpyro.distributions.Uniform(vmin,vmax))\n",
    "\n",
    "def model_listed():\n",
    "    x = numpyro.sample('x', numpyro.distributions.Uniform(xmin,xmax))\n",
    "    v = numpyro.sample('v', numpyro.distributions.Uniform(vmin,vmax), sample_shape=(3,))\n"
   ]
  },
  {
   "cell_type": "code",
   "execution_count": 120,
   "id": "44071c46",
   "metadata": {},
   "outputs": [
    {
     "name": "stdout",
     "output_type": "stream",
     "text": [
      "ns done\n"
     ]
    }
   ],
   "source": [
    "ns_single = NestedSampler(model_single, constructor_kwargs={\"num_live_points\":50*4*(2+1)/10, \"max_samples\":50*4*(2+1)/10})\n",
    "ns_single.run(jax.random.PRNGKey(0))\n",
    "ns_results_single = ns_single.get_samples(jax.random.PRNGKey(0),nchains)\n",
    "\n",
    "ns_listed = NestedSampler(model_listed, constructor_kwargs={\"num_live_points\":50*4*(2+1)/10, \"max_samples\":50*4*(2+1)/10})\n",
    "ns_listed.run(jax.random.PRNGKey(0))\n",
    "ns_results_listed = ns_listed.get_samples(jax.random.PRNGKey(0),nchains)\n",
    "\n",
    "print(\"ns done\")"
   ]
  },
  {
   "cell_type": "code",
   "execution_count": 121,
   "id": "933c8cf4",
   "metadata": {},
   "outputs": [
    {
     "name": "stdout",
     "output_type": "stream",
     "text": [
      "NUTS done\n"
     ]
    }
   ],
   "source": [
    "NUTS_single = numpyro.infer.MCMC(\n",
    "    infer.NUTS(model = model_single),\n",
    "    num_warmup  =0,\n",
    "    num_samples =nchains,\n",
    "    num_chains  =1,\n",
    "    progress_bar=False,\n",
    "    chain_method = 'sequential',\n",
    ")\n",
    "NUTS_single.run(jax.random.PRNGKey(1))\n",
    "NUTS_results_single = NUTS_single.get_samples()\n",
    "\n",
    "NUTS_listed= numpyro.infer.MCMC(\n",
    "    infer.NUTS(model = model_listed),\n",
    "    num_warmup  =0,\n",
    "    num_samples =nchains,\n",
    "    num_chains  =1,\n",
    "    progress_bar=False,\n",
    "    chain_method = 'sequential',\n",
    ")\n",
    "NUTS_listed.run(jax.random.PRNGKey(1))\n",
    "NUTS_results_listed = NUTS_listed.get_samples()\n",
    "\n",
    "print(\"NUTS done\")"
   ]
  },
  {
   "cell_type": "code",
   "execution_count": 122,
   "id": "2c4dea20",
   "metadata": {},
   "outputs": [
    {
     "name": "stdout",
     "output_type": "stream",
     "text": [
      "======================\n",
      "v_0 \n",
      " [  6.982317  -18.08641     6.340165   18.607283    5.7649803  18.702698\n",
      "  -7.6079607 -15.00371    14.190512   16.208754  -18.08641     7.24391\n",
      "  12.427044   -5.3977966 -19.286732    6.982317    9.254284  -18.22224\n",
      "   5.7649803   6.340165 ]\n",
      "v_1 \n",
      " [  3.8061714  -19.636059   -17.91304      4.0143156   11.584687\n",
      " -17.627974     7.864876   -12.330785    -8.887463    -5.7244253\n",
      " -19.636059     7.525935    15.541844    18.51957    -16.621342\n",
      "   3.8061714    0.84996223   0.13863564  11.584687   -17.91304   ]\n",
      "v_2 \n",
      " [  4.7610474  -3.0691671  -3.6883307  16.267357  -15.212798   -3.761592\n",
      " -11.000161   12.396107   10.970707  -10.237918   -3.0691671   5.407796\n",
      " -11.954021    4.4276285  13.9311695   4.7610474   0.6894016  -3.1046867\n",
      " -15.212798   -3.6883307]\n",
      "x \n",
      " [6.46858825e-05 5.15633583e-05 7.56085647e-05 2.81645771e-05\n",
      " 3.34266297e-05 8.42745503e-05 9.30176247e-05 2.51805773e-06\n",
      " 7.86664605e-05 1.40842430e-05 5.15633583e-05 2.02704655e-06\n",
      " 7.45608804e-06 6.30281211e-05 8.23689188e-05 6.46858825e-05\n",
      " 1.17645495e-05 1.12745761e-06 3.34266297e-05 7.56085647e-05]\n",
      "======================\n",
      "v \n",
      " [ 10.301552   -2.3452473 -12.705374   16.722084    7.358947   11.165819\n",
      "  11.877837  -15.060301  -17.764782    8.571105   -2.3452473   4.791994\n",
      "   1.8323898  19.350786  -17.403841   10.301552   -1.1039305 -18.008972\n",
      "   7.358947  -12.705374 ]\n",
      "x \n",
      " [7.5710595e-05 5.3357944e-05 9.4698663e-07 9.0271016e-05 4.3013490e-05\n",
      " 3.0410205e-05 3.8827442e-05 1.9992256e-05 4.2226719e-05 8.8233668e-05\n",
      " 5.3357944e-05 8.3348154e-05 3.7789712e-05 2.0074331e-05 3.5160065e-05\n",
      " 7.5710595e-05 8.0436774e-05 4.1009556e-05 4.3013490e-05 9.4698663e-07]\n",
      "======================\n",
      "v_0 \n",
      " [ -9.744694   16.5112    -14.956087   14.760616   -6.814027   11.617732\n",
      "   2.6263165  -4.6719275  -2.945304   -8.751689   19.249577   18.140642\n",
      " -18.32924   -17.426222   18.795216   10.581358  -11.756474   13.236397\n",
      "   9.653217   -9.121772 ]\n",
      "v_1 \n",
      " [  9.864249   -8.939551    1.8510771  -4.846089    7.3038435 -15.605813\n",
      " -15.261417   14.960818   14.666445    7.8795958  -9.970082   -8.914448\n",
      "  -5.4235196  -8.177537    7.198994   -8.336542   -9.320957    5.8491683\n",
      "  -1.8773782   7.2560883]\n",
      "v_2 \n",
      " [  9.299639   -10.811984     6.532526    -5.4859486   -8.734193\n",
      "  -1.9312787   -9.622773     8.453901    -1.0884428   -9.838764\n",
      "  11.048372     0.47777176 -12.265755   -15.107647     5.337739\n",
      "  -2.9082584    3.8661003    9.996832    19.911377   -19.97712   ]\n",
      "x \n",
      " [4.89038666e-06 9.48654779e-05 1.07896665e-06 9.76372248e-05\n",
      " 2.36362575e-06 4.56413582e-05 2.26845896e-05 7.69550388e-05\n",
      " 2.85614515e-05 4.94997448e-06 9.71033005e-05 8.98660146e-05\n",
      " 1.16005185e-05 1.57183676e-05 8.94959448e-05 3.87666878e-05\n",
      " 2.79246415e-05 4.22903795e-05 2.19155500e-05 8.25973766e-05]\n",
      "======================\n",
      "v \n",
      " [[-12.754999     8.40596      8.722429  ]\n",
      " [ 17.91222     -7.3374653  -10.423784  ]\n",
      " [-15.076378     1.0855341    6.3515234 ]\n",
      " [ 14.902625    -4.1898737   -5.254998  ]\n",
      " [ -7.256178     7.016778    -8.927707  ]\n",
      " [ 11.555397   -15.636632    -1.9907188 ]\n",
      " [  2.594552   -15.283687    -9.631301  ]\n",
      " [ -4.6384945   14.974542     8.466007  ]\n",
      " [ -2.9394567   14.675587    -1.0852337 ]\n",
      " [ -8.753626     7.883451    -9.839819  ]\n",
      " [ 19.249723    -9.972777    11.049225  ]\n",
      " [ 18.140999    -8.91678      0.47878742]\n",
      " [-18.329575    -5.420579   -12.266239  ]\n",
      " [-17.426704    -8.175507   -15.107928  ]\n",
      " [ 18.795252     7.1979713    5.3377533 ]\n",
      " [ 10.581522    -8.336044    -2.9082656 ]\n",
      " [-11.756538    -9.321035     3.866105  ]\n",
      " [ 13.23642      5.849235     9.996829  ]\n",
      " [  9.653225    -1.877414    19.911377  ]\n",
      " [ -9.121776     7.2561026  -19.97712   ]]\n",
      "x \n",
      " [4.89038666e-06 9.48654779e-05 1.07896665e-06 9.76372248e-05\n",
      " 2.36362575e-06 4.56413582e-05 2.26845896e-05 7.69550388e-05\n",
      " 2.85614515e-05 4.94997448e-06 9.71033005e-05 8.98660146e-05\n",
      " 1.16005185e-05 1.57183676e-05 8.94959448e-05 3.87666878e-05\n",
      " 2.79246415e-05 4.22903795e-05 2.19155500e-05 8.25973766e-05]\n"
     ]
    }
   ],
   "source": [
    "for source in [ns_results_single,ns_results_listed,NUTS_results_single,NUTS_results_listed]:\n",
    "    print(\"======================\")\n",
    "    for key in source.keys():\n",
    "        print(key,\"\\n\",source[key])"
   ]
  },
  {
   "cell_type": "markdown",
   "id": "cf4eda13",
   "metadata": {},
   "source": [
    "Try to transform the listed samples:"
   ]
  },
  {
   "cell_type": "code",
   "execution_count": 173,
   "id": "7a92ed56",
   "metadata": {},
   "outputs": [
    {
     "name": "stdout",
     "output_type": "stream",
     "text": [
      "============================\n"
     ]
    },
    {
     "ename": "IndexError",
     "evalue": "Too many indices for array: 1 non-None/Ellipsis indices for dim 0.",
     "output_type": "error",
     "traceback": [
      "\u001b[0;31m---------------------------------------------------------------------------\u001b[0m",
      "\u001b[0;31mIndexError\u001b[0m                                Traceback (most recent call last)",
      "Cell \u001b[0;32mIn[173], line 17\u001b[0m\n\u001b[1;32m     15\u001b[0m transformed_start\u001b[38;5;241m=\u001b[39m tformed_params_listed \u001b[38;5;241m=\u001b[39m transform_fn(transform, source, invert\u001b[38;5;241m=\u001b[39m\u001b[38;5;28;01mTrue\u001b[39;00m)\n\u001b[1;32m     16\u001b[0m \u001b[38;5;28;01mfor\u001b[39;00m key \u001b[38;5;129;01min\u001b[39;00m transformed_start\u001b[38;5;241m.\u001b[39mkeys():\n\u001b[0;32m---> 17\u001b[0m     \u001b[38;5;28mprint\u001b[39m(key,\u001b[38;5;124m\"\u001b[39m\u001b[38;5;130;01m\\n\u001b[39;00m\u001b[38;5;124m\"\u001b[39m,transformed_start[key], \u001b[38;5;28mtype\u001b[39m(\u001b[43mtransformed_start\u001b[49m\u001b[43m[\u001b[49m\u001b[43mkey\u001b[49m\u001b[43m]\u001b[49m\u001b[43m[\u001b[49m\u001b[38;5;241;43m0\u001b[39;49m\u001b[43m]\u001b[49m\u001b[43m[\u001b[49m\u001b[38;5;241;43m0\u001b[39;49m\u001b[43m]\u001b[49m))\n",
      "File \u001b[0;32m~/anaconda3/envs/nestconda_dev/lib/python3.10/site-packages/jax/_src/array.py:275\u001b[0m, in \u001b[0;36mArrayImpl.__getitem__\u001b[0;34m(self, idx)\u001b[0m\n\u001b[1;32m    272\u001b[0m \u001b[38;5;28mself\u001b[39m\u001b[38;5;241m.\u001b[39m_check_if_deleted()\n\u001b[1;32m    274\u001b[0m \u001b[38;5;28;01mif\u001b[39;00m dispatch\u001b[38;5;241m.\u001b[39mis_single_device_sharding(\u001b[38;5;28mself\u001b[39m\u001b[38;5;241m.\u001b[39msharding) \u001b[38;5;129;01mor\u001b[39;00m \u001b[38;5;28mself\u001b[39m\u001b[38;5;241m.\u001b[39mis_fully_replicated:\n\u001b[0;32m--> 275\u001b[0m   \u001b[38;5;28;01mreturn\u001b[39;00m \u001b[43mlax_numpy\u001b[49m\u001b[38;5;241;43m.\u001b[39;49m\u001b[43m_rewriting_take\u001b[49m\u001b[43m(\u001b[49m\u001b[38;5;28;43mself\u001b[39;49m\u001b[43m,\u001b[49m\u001b[43m \u001b[49m\u001b[43midx\u001b[49m\u001b[43m)\u001b[49m\n\u001b[1;32m    276\u001b[0m \u001b[38;5;66;03m# TODO(yashkatariya): Make it work for other Shardings too wherever its\u001b[39;00m\n\u001b[1;32m    277\u001b[0m \u001b[38;5;66;03m# possible to not do data movement.\u001b[39;00m\n\u001b[1;32m    278\u001b[0m \u001b[38;5;28;01melif\u001b[39;00m \u001b[38;5;28misinstance\u001b[39m(\u001b[38;5;28mself\u001b[39m\u001b[38;5;241m.\u001b[39msharding, PmapSharding):\n",
      "File \u001b[0;32m~/anaconda3/envs/nestconda_dev/lib/python3.10/site-packages/jax/_src/numpy/lax_numpy.py:3959\u001b[0m, in \u001b[0;36m_rewriting_take\u001b[0;34m(arr, idx, indices_are_sorted, unique_indices, mode, fill_value)\u001b[0m\n\u001b[1;32m   3956\u001b[0m       \u001b[38;5;28;01mreturn\u001b[39;00m lax\u001b[38;5;241m.\u001b[39mdynamic_index_in_dim(arr, idx, keepdims\u001b[38;5;241m=\u001b[39m\u001b[38;5;28;01mFalse\u001b[39;00m)\n\u001b[1;32m   3958\u001b[0m treedef, static_idx, dynamic_idx \u001b[38;5;241m=\u001b[39m _split_index_for_jit(idx, arr\u001b[38;5;241m.\u001b[39mshape)\n\u001b[0;32m-> 3959\u001b[0m \u001b[38;5;28;01mreturn\u001b[39;00m \u001b[43m_gather\u001b[49m\u001b[43m(\u001b[49m\u001b[43marr\u001b[49m\u001b[43m,\u001b[49m\u001b[43m \u001b[49m\u001b[43mtreedef\u001b[49m\u001b[43m,\u001b[49m\u001b[43m \u001b[49m\u001b[43mstatic_idx\u001b[49m\u001b[43m,\u001b[49m\u001b[43m \u001b[49m\u001b[43mdynamic_idx\u001b[49m\u001b[43m,\u001b[49m\u001b[43m \u001b[49m\u001b[43mindices_are_sorted\u001b[49m\u001b[43m,\u001b[49m\n\u001b[1;32m   3960\u001b[0m \u001b[43m               \u001b[49m\u001b[43munique_indices\u001b[49m\u001b[43m,\u001b[49m\u001b[43m \u001b[49m\u001b[43mmode\u001b[49m\u001b[43m,\u001b[49m\u001b[43m \u001b[49m\u001b[43mfill_value\u001b[49m\u001b[43m)\u001b[49m\n",
      "File \u001b[0;32m~/anaconda3/envs/nestconda_dev/lib/python3.10/site-packages/jax/_src/numpy/lax_numpy.py:3968\u001b[0m, in \u001b[0;36m_gather\u001b[0;34m(arr, treedef, static_idx, dynamic_idx, indices_are_sorted, unique_indices, mode, fill_value)\u001b[0m\n\u001b[1;32m   3965\u001b[0m \u001b[38;5;28;01mdef\u001b[39;00m \u001b[38;5;21m_gather\u001b[39m(arr, treedef, static_idx, dynamic_idx, indices_are_sorted,\n\u001b[1;32m   3966\u001b[0m             unique_indices, mode, fill_value):\n\u001b[1;32m   3967\u001b[0m   idx \u001b[38;5;241m=\u001b[39m _merge_static_and_dynamic_indices(treedef, static_idx, dynamic_idx)\n\u001b[0;32m-> 3968\u001b[0m   indexer \u001b[38;5;241m=\u001b[39m \u001b[43m_index_to_gather\u001b[49m\u001b[43m(\u001b[49m\u001b[43mshape\u001b[49m\u001b[43m(\u001b[49m\u001b[43marr\u001b[49m\u001b[43m)\u001b[49m\u001b[43m,\u001b[49m\u001b[43m \u001b[49m\u001b[43midx\u001b[49m\u001b[43m)\u001b[49m  \u001b[38;5;66;03m# shared with _scatter_update\u001b[39;00m\n\u001b[1;32m   3969\u001b[0m   y \u001b[38;5;241m=\u001b[39m arr\n\u001b[1;32m   3971\u001b[0m   \u001b[38;5;28;01mif\u001b[39;00m fill_value \u001b[38;5;129;01mis\u001b[39;00m \u001b[38;5;129;01mnot\u001b[39;00m \u001b[38;5;28;01mNone\u001b[39;00m:\n",
      "File \u001b[0;32m~/anaconda3/envs/nestconda_dev/lib/python3.10/site-packages/jax/_src/numpy/lax_numpy.py:4069\u001b[0m, in \u001b[0;36m_index_to_gather\u001b[0;34m(x_shape, idx, normalize_indices)\u001b[0m\n\u001b[1;32m   4067\u001b[0m \u001b[38;5;28;01mdef\u001b[39;00m \u001b[38;5;21m_index_to_gather\u001b[39m(x_shape, idx, normalize_indices\u001b[38;5;241m=\u001b[39m\u001b[38;5;28;01mTrue\u001b[39;00m):\n\u001b[1;32m   4068\u001b[0m   \u001b[38;5;66;03m# Remove ellipses and add trailing slice(None)s.\u001b[39;00m\n\u001b[0;32m-> 4069\u001b[0m   idx \u001b[38;5;241m=\u001b[39m \u001b[43m_canonicalize_tuple_index\u001b[49m\u001b[43m(\u001b[49m\u001b[38;5;28;43mlen\u001b[39;49m\u001b[43m(\u001b[49m\u001b[43mx_shape\u001b[49m\u001b[43m)\u001b[49m\u001b[43m,\u001b[49m\u001b[43m \u001b[49m\u001b[43midx\u001b[49m\u001b[43m)\u001b[49m\n\u001b[1;32m   4071\u001b[0m   \u001b[38;5;66;03m# Check for advanced indexing:\u001b[39;00m\n\u001b[1;32m   4072\u001b[0m   \u001b[38;5;66;03m# https://docs.scipy.org/doc/numpy/reference/arrays.indexing.html#advanced-indexing\u001b[39;00m\n\u001b[1;32m   4073\u001b[0m \n\u001b[1;32m   4074\u001b[0m   \u001b[38;5;66;03m# Do the advanced indexing axes appear contiguously? If not, NumPy semantics\u001b[39;00m\n\u001b[1;32m   4075\u001b[0m   \u001b[38;5;66;03m# move the advanced axes to the front.\u001b[39;00m\n\u001b[1;32m   4076\u001b[0m   advanced_axes_are_contiguous \u001b[38;5;241m=\u001b[39m \u001b[38;5;28;01mFalse\u001b[39;00m\n",
      "File \u001b[0;32m~/anaconda3/envs/nestconda_dev/lib/python3.10/site-packages/jax/_src/numpy/lax_numpy.py:4402\u001b[0m, in \u001b[0;36m_canonicalize_tuple_index\u001b[0;34m(arr_ndim, idx, array_name)\u001b[0m\n\u001b[1;32m   4400\u001b[0m len_without_none \u001b[38;5;241m=\u001b[39m _sum(\u001b[38;5;241m1\u001b[39m \u001b[38;5;28;01mfor\u001b[39;00m e \u001b[38;5;129;01min\u001b[39;00m idx \u001b[38;5;28;01mif\u001b[39;00m e \u001b[38;5;129;01mis\u001b[39;00m \u001b[38;5;129;01mnot\u001b[39;00m \u001b[38;5;28;01mNone\u001b[39;00m \u001b[38;5;129;01mand\u001b[39;00m e \u001b[38;5;129;01mis\u001b[39;00m \u001b[38;5;129;01mnot\u001b[39;00m \u001b[38;5;28mEllipsis\u001b[39m)\n\u001b[1;32m   4401\u001b[0m \u001b[38;5;28;01mif\u001b[39;00m len_without_none \u001b[38;5;241m>\u001b[39m arr_ndim:\n\u001b[0;32m-> 4402\u001b[0m   \u001b[38;5;28;01mraise\u001b[39;00m \u001b[38;5;167;01mIndexError\u001b[39;00m(\n\u001b[1;32m   4403\u001b[0m       \u001b[38;5;124mf\u001b[39m\u001b[38;5;124m\"\u001b[39m\u001b[38;5;124mToo many indices for \u001b[39m\u001b[38;5;132;01m{\u001b[39;00marray_name\u001b[38;5;132;01m}\u001b[39;00m\u001b[38;5;124m: \u001b[39m\u001b[38;5;132;01m{\u001b[39;00mlen_without_none\u001b[38;5;132;01m}\u001b[39;00m\u001b[38;5;124m \u001b[39m\u001b[38;5;124m\"\u001b[39m\n\u001b[1;32m   4404\u001b[0m       \u001b[38;5;124mf\u001b[39m\u001b[38;5;124m\"\u001b[39m\u001b[38;5;124mnon-None/Ellipsis indices for dim \u001b[39m\u001b[38;5;132;01m{\u001b[39;00marr_ndim\u001b[38;5;132;01m}\u001b[39;00m\u001b[38;5;124m.\u001b[39m\u001b[38;5;124m\"\u001b[39m)\n\u001b[1;32m   4405\u001b[0m ellipses \u001b[38;5;241m=\u001b[39m (i \u001b[38;5;28;01mfor\u001b[39;00m i, elt \u001b[38;5;129;01min\u001b[39;00m \u001b[38;5;28menumerate\u001b[39m(idx) \u001b[38;5;28;01mif\u001b[39;00m elt \u001b[38;5;129;01mis\u001b[39;00m \u001b[38;5;28mEllipsis\u001b[39m)\n\u001b[1;32m   4406\u001b[0m ellipsis_index \u001b[38;5;241m=\u001b[39m \u001b[38;5;28mnext\u001b[39m(ellipses, \u001b[38;5;28;01mNone\u001b[39;00m)\n",
      "\u001b[0;31mIndexError\u001b[0m: Too many indices for array: 1 non-None/Ellipsis indices for dim 0."
     ]
    }
   ],
   "source": [
    "transforms_listed = {\"x\": numpyro.distributions.biject_to(numpyro.distributions.Uniform(xmin, xmax).support),\n",
    "              \"v\": numpyro.distributions.biject_to(numpyro.distributions.Uniform(vmin, vmax).support)}\n",
    "\n",
    "transforms_single = {\"x\": numpyro.distributions.biject_to(numpyro.distributions.Uniform(xmin, xmax).support),\n",
    "                    \"v_0\": numpyro.distributions.biject_to(numpyro.distributions.Uniform(vmin, vmax).support),\n",
    "                    \"v_1\": numpyro.distributions.biject_to(numpyro.distributions.Uniform(vmin, vmax).support),\n",
    "                    \"v_2\": numpyro.distributions.biject_to(numpyro.distributions.Uniform(vmin, vmax).support),}\n",
    "\n",
    "\n",
    "starts = [ns_results_single,ns_results_listed,NUTS_results_single,NUTS_results_listed]\n",
    "transforms = [transforms_single,transforms_listed,transforms_single,transforms_listed]\n",
    "\n",
    "for source, transform in zip(starts,transforms):\n",
    "    print(\"============================\")\n",
    "    transformed_start= tformed_params_listed = transform_fn(transform, source, invert=True)\n",
    "    for key in transformed_start.keys():\n",
    "        print(key,\"\\n\",transformed_start[key])"
   ]
  },
  {
   "cell_type": "code",
   "execution_count": 124,
   "id": "5bfb4f23",
   "metadata": {},
   "outputs": [
    {
     "name": "stdout",
     "output_type": "stream",
     "text": [
      "Beginning sampling...\n",
      "Done\n"
     ]
    }
   ],
   "source": [
    "print(\"Beginning sampling...\")\n",
    "sampler = numpyro.infer.MCMC(\n",
    "    infer.NUTS(model = model),\n",
    "    num_warmup  =nburn,\n",
    "    num_samples =nsamples,\n",
    "    num_chains  =nchains,\n",
    "    progress_bar=False,\n",
    "    chain_method = 'sequential',\n",
    ")\n",
    "\n",
    "sampler.run(jax.random.PRNGKey(1))\n",
    "output=sampler.get_samples()\n",
    "print(\"Done\")"
   ]
  },
  {
   "cell_type": "code",
   "execution_count": 171,
   "id": "4b8e1b3a",
   "metadata": {},
   "outputs": [
    {
     "name": "stdout",
     "output_type": "stream",
     "text": [
      "{'x': [0, 1, 2], 'y': [0, 1, 2]}\n",
      "['a' 'b' 'c'] [2, 3, 1]\n",
      "a 2 3\n",
      "b 3 3\n",
      "c 1 3\n"
     ]
    },
    {
     "data": {
      "text/plain": [
       "{'x': [0, 1, 2],\n",
       " 'y': [0, 1, 2],\n",
       " 'a': [Array([0, 0], dtype=int32),\n",
       "  Array([1, 1], dtype=int32),\n",
       "  Array([2, 2], dtype=int32)],\n",
       " 'b': [Array([0, 0, 0], dtype=int32),\n",
       "  Array([1, 1, 1], dtype=int32),\n",
       "  Array([2, 2, 2], dtype=int32)],\n",
       " 'c': [Array([0], dtype=int32),\n",
       "  Array([1], dtype=int32),\n",
       "  Array([2], dtype=int32)]}"
      ]
     },
     "execution_count": 171,
     "metadata": {},
     "output_type": "execute_result"
    }
   ],
   "source": [
    "import re\n",
    "def unflatten_dict(samples):\n",
    "    #------\n",
    "    # Get names\n",
    "    names = []\n",
    "    keys = samples.keys()\n",
    "    for key in keys:\n",
    "        if bool(re.search(\".*_[0-9]\", key)): names.append(key[:-2])\n",
    "\n",
    "    counts = [names.count(name) for name in np.unique(names)]\n",
    "    names = np.unique(names)\n",
    "    \n",
    "    out = {key: samples[key] for key in keys if not bool(re.search(\".*_[0-9]\", key))}\n",
    "    \n",
    "    print(out)\n",
    "    print(names,counts)\n",
    "    \n",
    "    #------\n",
    "    # Assemble\n",
    "    for name, count in zip(names,counts):\n",
    "        N = len(samples[name+\"_0\"])\n",
    "        print(name,count,N)\n",
    "        \n",
    "        to_add = {name: []}        \n",
    "        for j in range(N): #For each row\n",
    "            to_append = [0]*count\n",
    "            for i in range(count): #Get the values from each name\n",
    "                to_append[i]=samples[name+\"_\"+str(i)][j]\n",
    "            to_append = jnp.array(to_append)\n",
    "            to_add[name].append(to_append)\n",
    "            \n",
    "        out = out | to_add\n",
    "        \n",
    "    return(out)\n",
    "    \n",
    "\n",
    "test = {\"c_0\":[0,1,2], \"a_0\":[0,1,2], \"a_1\":[0,1,2], \"x\":[0,1,2], \"y\":[0,1,2], \"b_0\":[0,1,2], \"b_1\":[0,1,2], \"b_2\":[0,1,2]}\n",
    "unflatten_dict(test)"
   ]
  },
  {
   "cell_type": "code",
   "execution_count": 164,
   "id": "80785318",
   "metadata": {},
   "outputs": [
    {
     "name": "stdout",
     "output_type": "stream",
     "text": [
      "{'x': [0, 1, 2], 'y': [0, 1, 2]}\n"
     ]
    }
   ],
   "source": [
    "test2 = {key: test[key] for key in test.keys() if len(key)<3 or key[-2]!=\"_\"}\n",
    "print(test2)"
   ]
  }
 ],
 "metadata": {
  "kernelspec": {
   "display_name": "Python 3 (ipykernel)",
   "language": "python",
   "name": "python3"
  },
  "language_info": {
   "codemirror_mode": {
    "name": "ipython",
    "version": 3
   },
   "file_extension": ".py",
   "mimetype": "text/x-python",
   "name": "python",
   "nbconvert_exporter": "python",
   "pygments_lexer": "ipython3",
   "version": "3.10.9"
  }
 },
 "nbformat": 4,
 "nbformat_minor": 5
}
