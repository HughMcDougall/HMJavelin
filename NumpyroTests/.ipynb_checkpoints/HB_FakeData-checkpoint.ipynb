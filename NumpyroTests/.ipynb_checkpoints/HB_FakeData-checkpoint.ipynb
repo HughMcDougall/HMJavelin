{
 "cells": [
  {
   "cell_type": "markdown",
   "metadata": {
    "pycharm": {
     "name": "#%% md\n"
    }
   },
   "source": [
    "## HB_FakeData\n",
    "A test file for testing hierarchical bayes. Also a practice run for use jupyter notebooks\n",
    "  * Uses\n",
    "  * The\n",
    "  * Same\n",
    "  * Formatting\n",
    "  * As\n",
    "  * Github\n",
    "  * Readmes\n",
    "\n",
    "HM 2/3"
   ]
  },
  {
   "cell_type": "code",
   "execution_count": 1,
   "metadata": {
    "pycharm": {
     "name": "#%%\n"
    }
   },
   "outputs": [],
   "source": [
    "import jax\n",
    "import jax.numpy as np\n",
    "import numpyro\n",
    "import numpy as np\n",
    "from chainconsumer import ChainConsumer\n",
    "import matplotlib.pylab as plt"
   ]
  },
  {
   "cell_type": "markdown",
   "metadata": {},
   "source": [
    "Function for generating a single aliased lag-lag likelihood"
   ]
  },
  {
   "cell_type": "code",
   "execution_count": null,
   "metadata": {},
   "outputs": [],
   "source": [
    "def fake_LL(lagtrue, alias_width = 30, true_width = 30, rel_height = 1):\n",
    "    xtrue, ytrue = lagtrue\n",
    "    "
   ]
  }
 ],
 "metadata": {
  "kernelspec": {
   "display_name": "Python 3 (ipykernel)",
   "language": "python",
   "name": "python3"
  },
  "language_info": {
   "codemirror_mode": {
    "name": "ipython",
    "version": 3
   },
   "file_extension": ".py",
   "mimetype": "text/x-python",
   "name": "python",
   "nbconvert_exporter": "python",
   "pygments_lexer": "ipython3",
   "version": "3.10.3"
  }
 },
 "nbformat": 4,
 "nbformat_minor": 1
}
